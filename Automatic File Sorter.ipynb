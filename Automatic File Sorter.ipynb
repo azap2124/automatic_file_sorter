{
 "cells": [
  {
   "cell_type": "markdown",
   "id": "48688ed2",
   "metadata": {},
   "source": [
    "# Automatic File Sorter"
   ]
  },
  {
   "cell_type": "code",
   "execution_count": 18,
   "id": "5811a972",
   "metadata": {},
   "outputs": [],
   "source": [
    "import os, shutil\n",
    "\n",
    "path = r\"C:\\Users\\azap2\\Documents\\Data Analytics\\Analysts Builder Python\\\\\"\n",
    "\n",
    "folder_names = ['CSV Files','Image Files', 'TXT Files', 'Excel Files', 'Json Files']\n",
    "\n",
    "for folder in folder_names: \n",
    "    if not os.path.exists(path + folder):\n",
    "        os.makedirs(path + folder)\n",
    "        \n",
    "file_names = os.listdir(path)\n",
    "\n",
    "for file in file_names: \n",
    "    if '.csv' in file and not os.path.exists(path + \"CSV Files\\\\\" + file):\n",
    "        shutil.move(path + file, path + \"CSV Files\\\\\" + file)\n",
    "    elif '.txt' in file and not os.path.exists(path + \"TXT Files\\\\\" + file):\n",
    "        shutil.move(path + file, path + \"TXT Files\\\\\" + file)\n",
    "    elif '.json' in file and not os.path.exists(path + \"Json Files\\\\\" + file):\n",
    "        shutil.move(path + file, path + \"Json Files\\\\\" + file)\n",
    "    elif '.jpg' in file and not os.path.exists(path + \"Image Files\\\\\" + file):\n",
    "        shutil.move(path + file, path + \"Image Files\\\\\" + file)\n",
    "    elif '.xlsx' in file and not os.path.exists(path + \"Excel Files\\\\\" + file):\n",
    "        shutil.move(path + file, path + \"Excel Files\\\\\" + file)"
   ]
  }
 ],
 "metadata": {
  "kernelspec": {
   "display_name": "Python 3 (ipykernel)",
   "language": "python",
   "name": "python3"
  },
  "language_info": {
   "codemirror_mode": {
    "name": "ipython",
    "version": 3
   },
   "file_extension": ".py",
   "mimetype": "text/x-python",
   "name": "python",
   "nbconvert_exporter": "python",
   "pygments_lexer": "ipython3",
   "version": "3.11.4"
  }
 },
 "nbformat": 4,
 "nbformat_minor": 5
}
